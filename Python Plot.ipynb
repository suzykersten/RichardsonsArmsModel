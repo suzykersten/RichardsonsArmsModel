{
 "cells": [
  {
   "cell_type": "code",
   "execution_count": 2,
   "metadata": {},
   "outputs": [
    {
     "data": {
      "image/png": "[encoded data removed]",
      "text/plain": [
       "<Figure size 432x288 with 1 Axes>"
      ]
     },
     "metadata": {},
     "output_type": "display_data"
    }
   ],
   "source": [
    "import matplotlib.pyplot as plt\n",
    "\n",
    "# x axis values \n",
    "x = [1,2,3] \n",
    "# corresponding y axis values \n",
    "y = [2,4,1] \n",
    "  \n",
    "# plotting the points  \n",
    "plt.plot(x, y) \n",
    "  \n",
    "# naming the x axis \n",
    "plt.xlabel('x - axis') \n",
    "# naming the y axis \n",
    "plt.ylabel('y - axis') \n",
    "  \n",
    "# giving a title to my graph \n",
    "plt.title('My first graph!') \n",
    "  \n",
    "# function to show the plot \n",
    "xplt.show() "
   ]
  },
  {
   "cell_type": "code",
   "execution_count": 3,
   "metadata": {},
   "outputs": [
    {
     "name": "stdout",
     "output_type": "stream",
     "text": [
      "10\n"
     ]
    }
   ],
   "source": [
    "import "
   ]
  },
  {
   "cell_type": "code",
   "execution_count": 11,
   "metadata": {},
   "outputs": [
    {
     "name": "stdout",
     "output_type": "stream",
     "text": [
      "[0.5  0.   0.   0.2  0.   0.   0.   0.05 0.   0.  ]\n",
      "[0.   0.05 0.   0.   0.   0.   0.2  0.   0.   0.1 ]\n",
      "[0.  0.  0.  0.2 0.  0.1 0.  0.  0.  0. ]\n"
     ]
    },
    {
     "ename": "ValueError",
     "evalue": "shapes (10,11) and (10,) not aligned: 11 (dim 1) != 10 (dim 0)",
     "output_type": "error",
     "traceback": [
      "\u001b[0;31m---------------------------------------------------------------------------\u001b[0m",
      "\u001b[0;31mValueError\u001b[0m                                Traceback (most recent call last)",
      "\u001b[0;32m<ipython-input-11-3cca6b0d70c7>\u001b[0m in \u001b[0;36m<module>\u001b[0;34m\u001b[0m\n\u001b[1;32m     33\u001b[0m     \u001b[0mx\u001b[0m\u001b[0;34m.\u001b[0m\u001b[0mappend\u001b[0m\u001b[0;34m(\u001b[0m\u001b[0mi\u001b[0m\u001b[0;34m)\u001b[0m\u001b[0;34m\u001b[0m\u001b[0;34m\u001b[0m\u001b[0m\n\u001b[1;32m     34\u001b[0m \u001b[0;34m\u001b[0m\u001b[0m\n\u001b[0;32m---> 35\u001b[0;31m     \u001b[0mxv1\u001b[0m \u001b[0;34m=\u001b[0m \u001b[0mnp\u001b[0m\u001b[0;34m.\u001b[0m\u001b[0mdot\u001b[0m\u001b[0;34m(\u001b[0m\u001b[0mA\u001b[0m\u001b[0;34m,\u001b[0m \u001b[0mxv1\u001b[0m\u001b[0;34m)\u001b[0m\u001b[0;34m\u001b[0m\u001b[0;34m\u001b[0m\u001b[0m\n\u001b[0m\u001b[1;32m     36\u001b[0m     \u001b[0mxv2\u001b[0m \u001b[0;34m=\u001b[0m \u001b[0mnp\u001b[0m\u001b[0;34m.\u001b[0m\u001b[0mdot\u001b[0m\u001b[0;34m(\u001b[0m\u001b[0mA\u001b[0m\u001b[0;34m,\u001b[0m \u001b[0mxv2\u001b[0m\u001b[0;34m)\u001b[0m\u001b[0;34m\u001b[0m\u001b[0;34m\u001b[0m\u001b[0m\n\u001b[1;32m     37\u001b[0m     \u001b[0mxv3\u001b[0m \u001b[0;34m=\u001b[0m \u001b[0mnp\u001b[0m\u001b[0;34m.\u001b[0m\u001b[0mdot\u001b[0m\u001b[0;34m(\u001b[0m\u001b[0mA\u001b[0m\u001b[0;34m,\u001b[0m \u001b[0mxv3\u001b[0m\u001b[0;34m)\u001b[0m\u001b[0;34m\u001b[0m\u001b[0;34m\u001b[0m\u001b[0m\n",
      "\u001b[0;31mValueError\u001b[0m: shapes (10,11) and (10,) not aligned: 11 (dim 1) != 10 (dim 0)"
     ]
    }
   ],
   "source": [
    "import pandas\n",
    "import numpy as np\n",
    "\n",
    "A = np.array([[0.5,  0,    0,   0.1,  0,    0,    0,   0.05, 0,    0,    0.05],\n",
    "             [ 0,    0.05, 0,   0,    0,    0,    0.2, 0,    0,    0.1,  0.05],\n",
    "             [ 0,    0,    0,   0.1,  0.2,  0,    0.2, 0,    0,    0,    0.05],\n",
    "             [ 0.2,  0,    0.2, 0.5,  0.1,  0,    0,   0.05, 0,    0.04, 0.15],\n",
    "             [ 0,    0,    0,   0.2,  0.25, 0.3,  0.1, 0,    0,    0,    0.05],\n",
    "             [ 0,    0,    0.1, 0,    0.2,  0.75, 0,   0,    0,    0.1,  0.1 ],\n",
    "             [ 0,    0.2,  0,   0,    0,    0,    0.5, 0,    0.2,  0.2,  0.15],\n",
    "             [ 0.05, 0,    0,   0.05, 0,    0,    0,   0.5,  0,    0.05, 0.05],\n",
    "             [ 0,    0,    0,   0.1,  0.1,  0.1,  0.2, 0,    0.65, 0.1,  0.05],\n",
    "             [ 0,    0.1,  0,   0.4,  0.1,  0.1,  0.2, 0.05, 0,    0.5,  0.1]])\n",
    "\n",
    "\n",
    "xv1 = A[...,0]\n",
    "xv2 = A[...,1]\n",
    "xv3 = A[...,2]\n",
    "\n",
    "print(xv1)\n",
    "print(xv2)\n",
    "print(xv3)\n",
    "\n",
    "y1 = []\n",
    "y2 = []\n",
    "y3 = []\n",
    "x = []\n",
    "\n",
    "for i in range(5):\n",
    "    y1.append(sum(A[0]))\n",
    "    y2.append(sum(A[1]))\n",
    "    y3.append(sum(A[2]))\n",
    "    x.append(i)\n",
    "    \n",
    "    xv1 = np.dot(A, xv1)\n",
    "    xv2 = np.dot(A, xv2)\n",
    "    xv3 = np.dot(A, xv3)\n",
    "    \n",
    "    i += 1\n",
    "    \n",
    "plt.plot(x, y1, x, y2, x, y3)\n",
    "\n",
    "plt.xlabel('time') \n",
    "plt.ylabel('aggressive') \n",
    "\n",
    "plt.title('1935') \n",
    "\n",
    "xplt.show() "
   ]
  },
  {
   "cell_type": "code",
   "execution_count": null,
   "metadata": {},
   "outputs": [],
   "source": []
  }
 ],
 "metadata": {
  "kernelspec": {
   "display_name": "Python 3",
   "language": "python",
   "name": "python3"
  },
  "language_info": {
   "codemirror_mode": {
    "name": "ipython",
    "version": 3
   },
   "file_extension": ".py",
   "mimetype": "text/x-python",
   "name": "python",
   "nbconvert_exporter": "python",
   "pygments_lexer": "ipython3",
   "version": "3.7.1"
  }
 },
 "nbformat": 4,
 "nbformat_minor": 2
}
