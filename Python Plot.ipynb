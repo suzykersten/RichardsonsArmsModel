{
 "cells": [
  {
   "cell_type": "code",
   "execution_count": 7,
   "metadata": {},
   "outputs": [
    {
     "data": {
      "image/png": "[encoded data removed]",
      "text/plain": [
       "<Figure size 432x288 with 1 Axes>"
      ]
     },
     "metadata": {
      "needs_background": "light"
     },
     "output_type": "display_data"
    }
   ],
   "source": [
    "import matplotlib.pyplot as plt\n",
    "\n",
    "# x axis values \n",
    "x = [1,2,3] \n",
    "# corresponding y axis values \n",
    "y = [2,4,1] \n",
    "  \n",
    "# plotting the points  \n",
    "plt.plot(x, y) \n",
    "  \n",
    "# naming the x axis \n",
    "plt.xlabel('x - axis') \n",
    "# naming the y axis \n",
    "plt.ylabel('y - axis') \n",
    "  \n",
    "# giving a title to my graph \n",
    "plt.title('My first graph!') \n",
    "  \n",
    "# function to show the plot \n",
    "plt.show() "
   ]
  },
  {
   "cell_type": "code",
   "execution_count": 3,
   "metadata": {},
   "outputs": [
    {
     "name": "stdout",
     "output_type": "stream",
     "text": [
      "10\n"
     ]
    }
   ],
   "source": [
    "import "
   ]
  },
  {
   "cell_type": "code",
   "execution_count": 8,
   "metadata": {},
   "outputs": [
    {
     "name": "stdout",
     "output_type": "stream",
     "text": [
      "[0.5  0.   0.   0.2  0.   0.   0.   0.05 0.   0.  ]\n",
      "[[0.5  0.   0.   0.1  0.   0.   0.   0.05 0.   0.  ]\n",
      " [0.   0.05 0.   0.   0.   0.   0.2  0.   0.   0.1 ]\n",
      " [0.   0.   0.   0.1  0.2  0.   0.2  0.   0.   0.  ]\n",
      " [0.2  0.   0.2  0.5  0.1  0.   0.   0.05 0.   0.04]\n",
      " [0.   0.   0.   0.2  0.25 0.3  0.1  0.   0.   0.  ]\n",
      " [0.   0.   0.1  0.   0.2  0.75 0.   0.   0.   0.1 ]\n",
      " [0.   0.2  0.   0.   0.   0.   0.5  0.   0.2  0.2 ]\n",
      " [0.05 0.   0.   0.05 0.   0.   0.   0.5  0.   0.05]\n",
      " [0.   0.   0.   0.1  0.1  0.1  0.2  0.   0.65 0.1 ]\n",
      " [0.   0.1  0.   0.4  0.1  0.1  0.2  0.05 0.   0.5 ]]\n"
     ]
    },
    {
     "data": {
      "image/png": "[encoded data removed]",
      "text/plain": [
       "<Figure size 432x288 with 1 Axes>"
      ]
     },
     "metadata": {
      "needs_background": "light"
     },
     "output_type": "display_data"
    }
   ],
   "source": [
    "import matplotlib.pyplot as plt\n",
    "import pandas\n",
    "import numpy as np\n",
    "\n",
    "# The array of relationships between nations: Diagonal is fatigue coefficients\n",
    "A = np.array([[0.5,  0,    0,   0.1,  0,    0,    0,   0.05, 0,    0   ],\n",
    "             [ 0,    0.05, 0,   0,    0,    0,    0.2, 0,    0,    0.1 ],\n",
    "             [ 0,    0,    0,   0.1,  0.2,  0,    0.2, 0,    0,    0   ],\n",
    "             [ 0.2,  0,    0.2, 0.5,  0.1,  0,    0,   0.05, 0,    0.04],\n",
    "             [ 0,    0,    0,   0.2,  0.25, 0.3,  0.1, 0,    0,    0   ],\n",
    "             [ 0,    0,    0.1, 0,    0.2,  0.75, 0,   0,    0,    0.1 ],\n",
    "             [ 0,    0.2,  0,   0,    0,    0,    0.5, 0,    0.2,  0.2 ],\n",
    "             [ 0.05, 0,    0,   0.05, 0,    0,    0,   0.5,  0,    0.05],\n",
    "             [ 0,    0,    0,   0.1,  0.1,  0.1,  0.2, 0,    0.65, 0.1 ],\n",
    "             [ 0,    0.1,  0,   0.4,  0.1,  0.1,  0.2, 0.05, 0,    0.5 ]])\n",
    "\n",
    "# The grievances array: How much people will build anyway\n",
    "G = np.array([[0.05],\n",
    "              [0.05],\n",
    "              [0.05],\n",
    "              [0.15],\n",
    "              [0.05],\n",
    "              [0.1 ],\n",
    "              [0.15],\n",
    "              [0.05],\n",
    "              [0.05],\n",
    "              [0.1]])\n",
    "\n",
    "xv1 = np.empty(10)\n",
    "\n",
    "# get individual columns from A\n",
    "xv1 = A[...,0]\n",
    "xv2 = A[...,1]\n",
    "xv3 = A[...,2]\n",
    "\n",
    "y1 = []\n",
    "y2 = []\n",
    "y3 = []\n",
    "x = []\n",
    "\n",
    "\n",
    "\n",
    "\n",
    "for i in range(5):\n",
    "    y1.append(sum(A[0]))\n",
    "    y2.append(sum(A[1]))\n",
    "    y3.append(sum(A[2]))\n",
    "    x.append(i)\n",
    "    \n",
    "    xv1 = np.dot(A, xv1)\n",
    "    xv2 = np.dot(A, xv2)\n",
    "    xv3 = np.dot(A, xv3)\n",
    "    \n",
    "    i += 1\n",
    "    \n",
    "plt.plot(x, y1, x, y2, x, y3)\n",
    "\n",
    "plt.xlabel('time') \n",
    "plt.ylabel('aggressive') \n",
    "\n",
    "plt.title('1935') \n",
    "\n",
    "plt.show() "
   ]
  },
  {
   "cell_type": "code",
   "execution_count": null,
   "metadata": {},
   "outputs": [],
   "source": []
  }
 ],
 "metadata": {
  "kernelspec": {
   "display_name": "Python 3",
   "language": "python",
   "name": "python3"
  },
  "language_info": {
   "codemirror_mode": {
    "name": "ipython",
    "version": 3
   },
   "file_extension": ".py",
   "mimetype": "text/x-python",
   "name": "python",
   "nbconvert_exporter": "python",
   "pygments_lexer": "ipython3",
   "version": "3.7.1"
  }
 },
 "nbformat": 4,
 "nbformat_minor": 2
}
